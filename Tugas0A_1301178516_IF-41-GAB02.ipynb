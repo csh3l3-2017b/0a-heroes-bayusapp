{
 "cells": [
  {
   "cell_type": "code",
   "execution_count": 4,
   "metadata": {
    "collapsed": true
   },
   "outputs": [],
   "source": [
    "# Nama\t: Bayu Setya Ajie Perdana Putra\n",
    "# NIM\t\t: 1301178516\n",
    "# Kelas\t: IF-41-GAB02\n",
    "\n",
    "import csv\n",
    "\n",
    "#inisialisasi variable\n",
    "ambilData \t= []\n",
    "simpanData\t= []\n",
    "\n",
    "#buat baris pertama/nama kolom\n",
    "simpanData.insert(0, ['name', 'role'])\n",
    "\n",
    "#buka file test.csv\n",
    "with open('./test.csv') as filecsv:\n",
    "\tline\t= csv.reader(filecsv)\n",
    "\tdataset\t= list(line)\n",
    "\t#forloop sebanyak 53\n",
    "\tfor x in range(53):\n",
    "\t\tfor y in range (5):\n",
    "\t\t\tdataset[x][y] = dataset[x][y]\n",
    "\t\t#tampung ke variable ambilData\n",
    "\t\tambilData.append(dataset[x])\n",
    "\n",
    "#forloop untuk ambilData\n",
    "for index in range(1, len(ambilData)):\n",
    "\t#cek movementSpeed\n",
    "\tif int(ambilData[index][1]) >= 270:\n",
    "\t\tsimpanData.append([ambilData[index][0], 'MARKSMAN'])\n",
    "\t#cek physicalAttack\n",
    "\telif int(ambilData[index][2]) >= 121:\n",
    "\t\tsimpanData.append([ambilData[index][0], 'ASSASSIN'])\n",
    "\t#cek armor\n",
    "\telif int(ambilData[index][3]) >= 25:\n",
    "\t\tsimpanData.append([ambilData[index][0], 'TANK'])\n",
    "\t#cek hp\n",
    "\telif int(ambilData[index][4]) >= 2580:\n",
    "\t\tsimpanData.append([ambilData[index][0], 'FIGHTER'])\n",
    "\t#cek mana\n",
    "\telif int(ambilData[index][5]) >= 500:\n",
    "\t\tsimpanData.append([ambilData[index][0], 'MAGE'])\n",
    "\telse:\n",
    "\t\tsimpanData.append([ambilData[index][0], 'SUPPORT'])\n",
    "\n",
    "#membuat file csv\n",
    "with open('./prediction.csv', 'w', newline='') as buatcsv:\n",
    "\tbaris = csv.writer(buatcsv)\n",
    "\tfor x in range(len(simpanData)):\n",
    "\t\tbaris.writerow(simpanData[x])"
   ]
  },
  {
   "cell_type": "code",
   "execution_count": null,
   "metadata": {
    "collapsed": true
   },
   "outputs": [],
   "source": []
  }
 ],
 "metadata": {
  "kernelspec": {
   "display_name": "Python 3",
   "language": "python",
   "name": "python3"
  },
  "language_info": {
   "codemirror_mode": {
    "name": "ipython",
    "version": 3
   },
   "file_extension": ".py",
   "mimetype": "text/x-python",
   "name": "python",
   "nbconvert_exporter": "python",
   "pygments_lexer": "ipython3",
   "version": "3.6.3"
  }
 },
 "nbformat": 4,
 "nbformat_minor": 2
}
